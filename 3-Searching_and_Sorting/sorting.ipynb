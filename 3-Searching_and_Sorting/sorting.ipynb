{
 "cells": [
  {
   "cell_type": "markdown",
   "metadata": {},
   "source": [
    "# Sorting\n",
    "\n",
    "## Bubble Sorting\n",
    "\n",
    "### Bubble Sorting Efficiency \n",
    "\n",
    "There are three cases:\n",
    "- Worst case: $O(n^2)\n",
    "\n",
    "- Average case: $O(n^2)\n",
    "\n",
    "- Best case: O(n)"
   ]
  },
  {
   "cell_type": "markdown",
   "metadata": {},
   "source": [
    "### Bubble Sorting Practice\n",
    "If you were perform a bubble sort on the following array, what would the third iteration look like (i.e after bubbleing all the way up 3 times)?\n",
    "\n",
    "[21, 4, 1, 3, 9, 20, 25, 6, 21, 14]\n",
    "\n",
    "**Answer:**\n",
    "\n",
    "(1) [4, 1, 3, 9, 20, 21, 6, 21, 14, 25] \n",
    "\n",
    "(2) [1, 3, 4, 9, 20, 6, 21, 14, 21, 25]\n",
    "\n",
    "(3) [1, 3, 4, 9, 6, 20, 14, 21, 21, 25]\n",
    "\n",
    "(4) [1, 3, 4, 6, 9, 14, 20, 21, 21, 25]"
   ]
  },
  {
   "cell_type": "markdown",
   "metadata": {},
   "source": [
    "## Merge Sort\n",
    "\n",
    "Merge sort is a divide and conquer algorithm that was invented by John von Neumann in 1945.\n",
    "\n",
    "### Merge Sort Efficiency\n",
    "\n",
    "Merge sort efficienty is O(nlog(n))\n",
    "\n",
    "Auxillary Space = O(n)\n",
    "\n",
    "### Practice\n",
    "\n",
    "If you were perform a merge sort on the following array, which is a possibility for what the second iteration might look like (i.e. after bubbling all the way up to 2 times)\n",
    "\n",
    "[21, 4, 1, 3, 9, 20, 25]\n",
    "\n",
    "**Answer:**\n",
    "\n",
    "(1) [21, 1, 4, 3, 9, 20, 25]\n",
    "\n",
    "(2) [1, 4, 21, 3, 9, 20, 25]\n",
    "\n",
    "(3) [1, 3, 4, 9, 20, 21, 25]"
   ]
  },
  {
   "cell_type": "markdown",
   "metadata": {},
   "source": [
    "## Quick Sort\n",
    "\n",
    "Like Merge Sort, QuickSort is a Divide and Conquer algorithm. It picks an element as pivot and partitions the given array around the picked pivot. There are many different versions of quickSort that pick pivot in different ways.\n",
    "\n",
    "- Always pick first element as pivot.\n",
    "\n",
    "- Always pick last element as pivot (implemented below)\n",
    "\n",
    "- Pick a random element as pivot.\n",
    "\n",
    "- Pick median as pivot.\n",
    "\n",
    "The key process in quickSort is partition(). Target of partitions is, given an array and an element x of array as pivot, put x at its correct position in sorted array and put all smaller elements (smaller than x) before x, and put all greater elements (greater than x) after x. All this should be done in linear time.\n",
    "\n",
    "### Quick Sort Efficiency\n",
    "\n",
    "- Average performance: O(nlog(n))\n",
    "\n",
    "- Worst case: O(n^2)"
   ]
  },
  {
   "cell_type": "markdown",
   "metadata": {},
   "source": [
    "### Practice\n",
    "\n",
    "Implement quick sort in Python.\n",
    "\n",
    "- Input a list.\n",
    "- Output a sorted list."
   ]
  },
  {
   "cell_type": "code",
   "execution_count": 1,
   "metadata": {},
   "outputs": [],
   "source": [
    "def quicksort(array):\n",
    "    res_array = quicksorthelp(array, 0, len(array)-1)\n",
    "    return res_array\n",
    "\n",
    "def quicksorthelp(alist, first, last):\n",
    "    if first < last:\n",
    "        splitpoint = partition(alist, first, last)\n",
    "        quicksorthelp(alist, first, splitpoint-1)\n",
    "        quicksorthelp(alist, splitpoint+1, last)\n",
    "        return alist\n",
    "\n",
    "def partition(alist, first, last):\n",
    "    pivotvalue = alist[first]\n",
    "    leftmark = first + 1\n",
    "    rightmark = last\n",
    "    done = False\n",
    "\n",
    "    while not done:\n",
    "        while leftmark <= rightmark and alist[leftmark] <= pivotvalue:\n",
    "            leftmark += 1\n",
    "\n",
    "        while alist[rightmark] >= pivotvalue and leftmark <= rightmark:\n",
    "            rightmark -= 1\n",
    "\n",
    "        if rightmark < leftmark:\n",
    "            done = True\n",
    "        else:\n",
    "            temp = alist[leftmark]\n",
    "            alist[leftmark] = alist[rightmark]\n",
    "            alist[rightmark] = temp\n",
    "\n",
    "    temp = alist[first]\n",
    "    alist[first] = alist[rightmark]\n",
    "    alist[rightmark] = temp\n",
    "\n",
    "    return rightmark"
   ]
  },
  {
   "cell_type": "code",
   "execution_count": 2,
   "metadata": {},
   "outputs": [
    {
     "name": "stdout",
     "output_type": "stream",
     "text": [
      "[1, 3, 4, 6, 9, 14, 20, 21, 21, 25]\n"
     ]
    }
   ],
   "source": [
    "test = [21, 4, 1, 3, 9, 20, 25, 6, 21, 14]\n",
    "print(quicksort(test))"
   ]
  },
  {
   "cell_type": "code",
   "execution_count": null,
   "metadata": {},
   "outputs": [],
   "source": []
  }
 ],
 "metadata": {
  "kernelspec": {
   "display_name": "Python 3",
   "language": "python",
   "name": "python3"
  },
  "language_info": {
   "codemirror_mode": {
    "name": "ipython",
    "version": 3
   },
   "file_extension": ".py",
   "mimetype": "text/x-python",
   "name": "python",
   "nbconvert_exporter": "python",
   "pygments_lexer": "ipython3",
   "version": "3.7.4"
  }
 },
 "nbformat": 4,
 "nbformat_minor": 2
}
