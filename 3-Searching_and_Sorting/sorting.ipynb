{
 "cells": [
  {
   "cell_type": "markdown",
   "metadata": {},
   "source": [
    "# Sorting\n",
    "\n",
    "## Bubble Sorting\n",
    "\n",
    "### Bubble Sorting Efficiency \n",
    "\n",
    "There are three cases:\n",
    "- Worst case: $O(n^2)\n",
    "\n",
    "- Average case: $O(n^2)\n",
    "\n",
    "- Best case: O(n)"
   ]
  },
  {
   "cell_type": "markdown",
   "metadata": {},
   "source": [
    "### Bubble Sorting Practice\n",
    "If you were perform a bubble sort on the following array, what would the third iteration look like (i.e after bubbleing all the way up 3 times)?\n",
    "\n",
    "[21, 4, 1, 3, 9, 20, 25, 6, 21, 14]\n",
    "\n",
    "**Answer:**\n",
    "\n",
    "(1) [4, 1, 3, 9, 20, 21, 6, 21, 14, 25] \n",
    "\n",
    "(2) [1, 3, 4, 9, 20, 6, 21, 14, 21, 25]\n",
    "\n",
    "(3) [1, 3, 4, 9, 6, 20, 14, 21, 21, 25]\n",
    "\n",
    "(4) [1, 3, 4, 6, 9, 14, 20, 21, 21, 25]"
   ]
  },
  {
   "cell_type": "markdown",
   "metadata": {},
   "source": [
    "## Merge Sort\n",
    "\n",
    "Merge sort is a divide and conquer algorithm that was invented by John von Neumann in 1945.\n",
    "\n",
    "### Merge Sort Efficiency\n",
    "\n",
    "Merge sort efficienty is O(nlog(n))\n",
    "\n",
    "Auxillary Space = O(n)\n",
    "\n",
    "### Practice\n",
    "\n",
    "If you were perform a merge sort on the following array, which is a possibility for what the second iteration might look like (i.e. after bubbling all the way up to 2 times)\n",
    "\n",
    "[21, 4, 1, 3, 9, 20, 25]\n",
    "\n",
    "**Answer:**\n",
    "\n",
    "(1) [21, 1, 4, 3, 9, 20, 25]\n",
    "\n",
    "(2) [1, 4, 21, 3, 9, 20, 25]\n",
    "\n",
    "(3) [1, 3, 4, 9, 20, 21, 25]"
   ]
  },
  {
   "cell_type": "markdown",
   "metadata": {},
   "source": [
    "## Quick Sort\n",
    "\n"
   ]
  }
 ],
 "metadata": {
  "kernelspec": {
   "display_name": "Python 3",
   "language": "python",
   "name": "python3"
  },
  "language_info": {
   "codemirror_mode": {
    "name": "ipython",
    "version": 3
   },
   "file_extension": ".py",
   "mimetype": "text/x-python",
   "name": "python",
   "nbconvert_exporter": "python",
   "pygments_lexer": "ipython3",
   "version": "3.7.4"
  }
 },
 "nbformat": 4,
 "nbformat_minor": 2
}
