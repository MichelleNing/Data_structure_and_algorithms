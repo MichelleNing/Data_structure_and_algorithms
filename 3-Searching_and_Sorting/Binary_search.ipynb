{
 "cells": [
  {
   "cell_type": "markdown",
   "metadata": {},
   "source": [
    "# Binary Search\n",
    "\n",
    "## Binary Search Efficiency\n",
    "\n",
    "Binary search effiency is O(log(n))\n",
    "<img src=\"binary_search.png\" width=\"300\">\n",
    "\n",
    "Python lists have a method called index(), which just does a search and returns the first index with an instance of that value. Next, you're going to write a binary search function that has the same result, but searches faster. Keep in mind the constraint for this exercise—for binary search, elements need to be in increasing order."
   ]
  },
  {
   "cell_type": "markdown",
   "metadata": {},
   "source": [
    "## Practice\n",
    "\n",
    "You're going to write a binary search function. You should use an iterative approach - meaning using loops.\n",
    "\n",
    "Your function should take two inputs: a Python list to search through, and the value you're searching for.\n",
    "\n",
    "Assume the list only has distinct elements, meaning there are no repeated values, and elements are in a strictly increasing order. Return the index of value, or -1 if the value doesn't exist in the list."
   ]
  },
  {
   "cell_type": "code",
   "execution_count": 1,
   "metadata": {},
   "outputs": [],
   "source": [
    "def binary_search(input_array, value):\n",
    "    \"\"\"Your code goes here.\"\"\"\n",
    "    l = len(input_array)\n",
    "    if l == 0:\n",
    "        return -1\n",
    "    else:\n",
    "        r = 0\n",
    "        while r <= l:\n",
    "            mid_l = r + (l-r)//2\n",
    "            if value == input_array[mid_l]:\n",
    "                return mid_l\n",
    "            elif value > input_array[mid_l]:\n",
    "                r = mid_l + 1\n",
    "            else:\n",
    "                l = mid_l - 1\n",
    "        return -1"
   ]
  },
  {
   "cell_type": "code",
   "execution_count": 3,
   "metadata": {},
   "outputs": [
    {
     "name": "stdout",
     "output_type": "stream",
     "text": [
      "-1\n",
      "4\n"
     ]
    }
   ],
   "source": [
    "test_list = [1,3,9,11,15,19,29]\n",
    "test_val1 = 25\n",
    "test_val2 = 15\n",
    "print(binary_search(test_list, test_val1))\n",
    "print(binary_search(test_list, test_val2))"
   ]
  },
  {
   "cell_type": "code",
   "execution_count": null,
   "metadata": {},
   "outputs": [],
   "source": []
  }
 ],
 "metadata": {
  "kernelspec": {
   "display_name": "Python 3",
   "language": "python",
   "name": "python3"
  },
  "language_info": {
   "codemirror_mode": {
    "name": "ipython",
    "version": 3
   },
   "file_extension": ".py",
   "mimetype": "text/x-python",
   "name": "python",
   "nbconvert_exporter": "python",
   "pygments_lexer": "ipython3",
   "version": "3.7.4"
  }
 },
 "nbformat": 4,
 "nbformat_minor": 2
}
