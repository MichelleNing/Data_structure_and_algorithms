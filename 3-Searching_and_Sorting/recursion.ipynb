{
 "cells": [
  {
   "cell_type": "markdown",
   "metadata": {},
   "source": [
    "# Recursion\n",
    "\n",
    "Recursion is to creat a function to call it self. \n",
    "\n",
    "Here is an example:"
   ]
  },
  {
   "cell_type": "code",
   "execution_count": 1,
   "metadata": {},
   "outputs": [],
   "source": [
    "# An Infinite recursion function\n",
    "def recursive(input_value):\n",
    "    if input_value <= 0:\n",
    "        return input_value\n",
    "    else:\n",
    "        output = recursive(input_value - 1)\n",
    "        return output"
   ]
  },
  {
   "cell_type": "markdown",
   "metadata": {},
   "source": [
    "Our Steps:\n",
    "\n",
    "recursive(2)\n",
    "\n",
    "    recursive(1)\n",
    "    \n",
    "        recursive(0) => return 0\n",
    "        \n",
    "            output = 0\n",
    "            \n",
    "            return 0"
   ]
  },
  {
   "cell_type": "markdown",
   "metadata": {},
   "source": [
    "## Practice\n",
    "\n",
    "We're going to take a look at recursion with a famous example—the Fibonacci Sequence. \n",
    "\n",
    "The Fibonacci Sequence follows one rule: get the next number in the sequence by adding the two previous numbers. Here is an example of the sequence:\n",
    "\n",
    "0, 1, 1, 2, 3, 5, 8, 13, 21, 34...\n",
    "\n",
    "Step through each value. You start with 0 and 1. 0 + 1 = 1, so you add 1 to the sequence. 1 + 1 = 2, so 2 is added. 1 + 2 = 3, so 3. 2 + 3 = 5, et cetera.\n",
    "\n",
    "You could represent these numbers as Python list, and it would look something like this:\n",
    "\n",
    "`fib_seq = []\n",
    "fib_seq[0] = 0\n",
    "fib_seq[1] = 1\n",
    "fib_seq[2] = 1\n",
    "fib_seq[3] = 2\n",
    "fib_seq[4] = 3\n",
    "fib_seq[5] = 5\n",
    "fib_seq[6] = 8\n",
    "fib_seq[7] = 13\n",
    "fib_seq[8] = 21\n",
    "fib_seq[9] = 34`\n",
    "\n",
    "We can generate this sequence using an iterative method (with loops):"
   ]
  },
  {
   "cell_type": "code",
   "execution_count": 2,
   "metadata": {},
   "outputs": [],
   "source": [
    "def getFib(positoin):\n",
    "    if position == 0:\n",
    "        return 0\n",
    "    elif position == 1:\n",
    "        return 1\n",
    "    first = 0\n",
    "    second = 1\n",
    "    next = first + second\n",
    "    for i in range(2, position):\n",
    "        first = second\n",
    "        second = next\n",
    "        next = first + second\n",
    "        return next\n"
   ]
  },
  {
   "cell_type": "markdown",
   "metadata": {},
   "source": [
    "Then implement get_fib() in a recursive way\n",
    "\n",
    "Implement a function recursively to get the desired Fibonacci sequence value. Your code should have the same input/output as the \n",
    "iterative code in the instructions."
   ]
  },
  {
   "cell_type": "code",
   "execution_count": 3,
   "metadata": {},
   "outputs": [],
   "source": [
    "def get_fib(position):\n",
    "    if position == 0 or position == 1:\n",
    "        return position\n",
    "    else:\n",
    "        return get_fib(position - 1) + get_fib(position - 2)\n",
    "    "
   ]
  },
  {
   "cell_type": "code",
   "execution_count": 4,
   "metadata": {},
   "outputs": [
    {
     "name": "stdout",
     "output_type": "stream",
     "text": [
      "34\n",
      "89\n",
      "0\n"
     ]
    }
   ],
   "source": [
    "# Test cases\n",
    "print(get_fib(9))\n",
    "print(get_fib(11))\n",
    "print(get_fib(0))"
   ]
  },
  {
   "cell_type": "code",
   "execution_count": null,
   "metadata": {},
   "outputs": [],
   "source": []
  },
  {
   "cell_type": "code",
   "execution_count": null,
   "metadata": {},
   "outputs": [],
   "source": []
  }
 ],
 "metadata": {
  "kernelspec": {
   "display_name": "Python 3",
   "language": "python",
   "name": "python3"
  },
  "language_info": {
   "codemirror_mode": {
    "name": "ipython",
    "version": 3
   },
   "file_extension": ".py",
   "mimetype": "text/x-python",
   "name": "python",
   "nbconvert_exporter": "python",
   "pygments_lexer": "ipython3",
   "version": "3.7.4"
  }
 },
 "nbformat": 4,
 "nbformat_minor": 2
}
