{
 "cells": [
  {
   "cell_type": "markdown",
   "metadata": {},
   "source": [
    "# Tree\n",
    "\n",
    "Trees are data structures that, look like trees.\n",
    "\n",
    "A tree starts from a place called a root and the data added to it called branches. A big tree will fan out with lots of different branches in lots of different directions, just like a real tree. There are plenty of other tree terms related to these data structures.\n",
    "\n",
    "\n",
    "## Tree Basic\n",
    "\n",
    "A tree is really just an extension of a linked list. \n",
    "\n",
    "<img src='tree_vs_linked_list.png' width=600>\n",
    "\n",
    "A linked list has one element at the front and a next pointer to another element, and so on. The tree is similar. The first element is called te root. Instead of having just one next element, a tree can have several.\n",
    "\n",
    "A linked list is often drawn horizzontally, but a tree is normally draw vertically like this. Just like a linked list, each element on a tree containes some data. The individual elements in a tree that contain values are often called nodes.\n",
    "\n",
    "\n",
    "First of all, a tree must be completely connected. That means if start from the root, there must be some way to reach every node in the tree. \n",
    "\n",
    "Next, there nust **NOT** be any cycles in the tree. A cycle occurs when there's a way for youu to encounter the same node twice."
   ]
  },
  {
   "cell_type": "markdown",
   "metadata": {},
   "source": [
    "## Tree Terminology\n",
    "\n",
    "A tree can be descrived in terms of levels, or how many connections it takes to reach the root plus one. The root is level 1, and nodes directly connected to it are on level 2.\n",
    "\n",
    "<img src='tree_terminology.png' width=600>\n",
    "\n",
    "Nodes in a tree are often described as having a parent child relationship. In this system, a node at a lower level is a parent, and the node connected to it at a higher level is a child. A node in the iddle can be both a parent and a child, it depends what it's being compared to. Here, children are only allowed to have one parent. If a parent has multiple children, those children are considered siblings of each other. \n",
    "\n",
    "A node at a lower level can be called an ancestor of a node at a higher level which is the descendant. The nodes at hte end that don't have any children are called leaves or external nodes. A parent node is called an internal node. The connections can be called as edges, and a group of connections taken together as a path. \n",
    "\n",
    "The height of a node is the number of edges between it and the furthest leaf on the tree. A leaf has a height of zero but the arent of a leaf has a heigh of one. THe height of a tree overall is just the height of the root node. \n",
    "\n",
    "On the flip side, the depth of a node is the number of edges to the root. Height and depth should move inversely. If a node is closer to a leaf then it's further fro the root. \n",
    "\n",
    "### Practice 1\n",
    "\n",
    "<img src='tree_practice_1.png' width=500>"
   ]
  },
  {
   "cell_type": "markdown",
   "metadata": {},
   "source": [
    "## Tree Traversal\n",
    "\n",
    "Traversal in a tree is a bit more complicated but it's equally important. We can't search or sort elements unless we have a way to make sure we can visit all elements first. \n",
    "\n",
    "There are two different broad approaches to treat traversal. One is called depth-first earch or DFS for short. In DFS, the philosoplhy is if there are children nodes to explore, exploring them is definitedly the priority. The alternative is called breadth-first search or BFS. In BFS, the priority is visiting every node on the same level we're currently on before visiting child nodes. \n",
    "\n",
    "### DFS\n",
    "\n",
    "#### Pre-Order Traversals\n",
    "\n",
    "Check off a node as you see it before you traverse any further in the tree. There are other mothods of traversal in which you check off nodes after you've seen their children. \n",
    "\n",
    "<img src='pre-order.png' width=300>\n",
    "\n",
    "We start at the rout and immediately check off that we've seen it. Next, we pick one of the children. Norrmally the left one by conventoin, and check it off too. We would continue traversing down the left most nodes until we had a leaf. We ceck off the leaf and from there go back up to the parent. Then traverse to the right child and check it off too. When we're done with one subtree, travel back up to the root and look at its right child. Do the same steps until we see everything.\n",
    "\n",
    "#### In-Order Traversals\n",
    "\n",
    "<img src='in-order.png' width=300>\n",
    "\n",
    "#### Post-Order Traversals\n",
    "\n",
    "<img src='post-order.png' width=300>"
   ]
  },
  {
   "cell_type": "markdown",
   "metadata": {},
   "source": [
    "## Search and Delete\n",
    "\n",
    "### Binary Trees\n",
    "\n",
    "Binary trees are simply trees for where parents have at most two children. This means nodes can have zero, one, or two children. Thoese children might even be null, but that's okay. \n",
    "\n",
    "#### Search\n",
    "\n",
    "User could start off by using any of the traversal algorithms to go through the tree. Becasue there's no real order to the elements, user need to go through every single element in the tree if the value I'm looking for doesn't exist. It's a linear time search O(n).\n",
    "\n",
    "#### Delete\n",
    "\n",
    "A delet poeration often starts out with a search since you need to find the node you want to delete. \n",
    "\n",
    "If you're deleting aleaf, you can simply delete it and move on. \n",
    "\n",
    "However, if you delete an internal node, you'll suddenly have a gap in the tree. \n",
    "\n",
    "1. If the mode you deleted only has one child, you can actually just take it out, move the child up and attach it to the old node's parent. \n",
    "\n",
    "2. If you're tring to get rid of a node that has two children, you have a few options. The child can be promoted up just  like before. What if both children also have two children? In the worst case, you'ss need to keep traversing down the sub tree until you hit a leaf.\n",
    "\n",
    "\n",
    "#### Insert\n",
    "\n",
    "Inserting an element into our tree, when it has no order is relatively easy. We only neeed to make sure that we're being the two children rule. We're given the root at the beginning and we'll need to keep moving down the tree until we find an open spot. The worst case is that we rtavel down the longest path until we find the farthest leaf. In that case we'll travel through the number of nodes, euqal to the height of the tree. "
   ]
  },
  {
   "cell_type": "markdown",
   "metadata": {},
   "source": [
    "### Practice 2\n",
    "\n",
    "Create a binary tree. Start with the most basic building block:\n"
   ]
  },
  {
   "cell_type": "code",
   "execution_count": 1,
   "metadata": {},
   "outputs": [],
   "source": [
    "class Node(object):\n",
    "    def __init__(self, value):\n",
    "        self.value = value\n",
    "        self.left = None\n",
    "        self.right = None"
   ]
  },
  {
   "cell_type": "markdown",
   "metadata": {},
   "source": [
    "Every node has some value, and pointers to left and right children. Need to implement two methods: search(), which searches for the presence of a node in the tree, and print_tree(), which prints out the values of tree nodes in a pre-order traversal. You should attempt to use the helper methods provided to create recursive solutions to these functions. "
   ]
  },
  {
   "cell_type": "code",
   "execution_count": 2,
   "metadata": {},
   "outputs": [],
   "source": [
    "class BinaryTree(object):\n",
    "    def __init__(self, root):\n",
    "        self.root = Node(root)\n",
    "\n",
    "    def search(self, find_val):\n",
    "        \"\"\"Return True if the value\n",
    "        is in the tree, return\n",
    "        False otherwise.\"\"\"\n",
    "        return self.preorder_search(tree.root, find_val)\n",
    "\n",
    "    def print_tree(self):\n",
    "        \"\"\"Print out all tree nodes\n",
    "        as they are visited in\n",
    "        a pre-order traversal.\"\"\"\n",
    "        return self.preorder_print(tree.root, \"\")[:-1]\n",
    "\n",
    "    def preorder_search(self, start, find_val):\n",
    "        \"\"\"Helper method - use this to create a \n",
    "        recursive search solution.\"\"\"\n",
    "        if start:\n",
    "            if start.value == find_val:\n",
    "                return True\n",
    "            else:\n",
    "                return self.preorder_search(start.left, find_val) or self.preorder_search(start.right, find_val)\n",
    "        return False\n",
    "\n",
    "    def preorder_print(self, start, traversal):\n",
    "        \"\"\"Helper method - use this to create a \n",
    "        recursive print solution.\"\"\"\n",
    "        if start:\n",
    "            traversal += (str(start.value) + '-')\n",
    "            traversal = self.preorder_print(start.left, traversal)\n",
    "            traversal = self.preorder_print(start.right, traversal)\n",
    "        return traversal\n"
   ]
  },
  {
   "cell_type": "code",
   "execution_count": 3,
   "metadata": {},
   "outputs": [],
   "source": [
    "# Set up tree\n",
    "tree = BinaryTree(1)\n",
    "tree.root.left = Node(2)\n",
    "tree.root.right = Node(3)\n",
    "tree.root.left.left = Node(4)\n",
    "tree.root.left.right = Node(5)"
   ]
  },
  {
   "cell_type": "code",
   "execution_count": 4,
   "metadata": {},
   "outputs": [
    {
     "name": "stdout",
     "output_type": "stream",
     "text": [
      "True\n",
      "False\n",
      "1-2-4-5-3\n"
     ]
    }
   ],
   "source": [
    "# Test search\n",
    "# Should be True\n",
    "print(tree.search(4))\n",
    "# Should be False\n",
    "print(tree.search(6))\n",
    "\n",
    "# Test print_tree\n",
    "# Should be 1-2-4-5-3\n",
    "print(tree.print_tree())"
   ]
  },
  {
   "cell_type": "markdown",
   "metadata": {},
   "source": [
    "## Bianry Search Tree (BST)\n",
    "\n",
    "There's a more specific trype of binary tree called a binary search tree(BST). A binary search tree, or BST, is definitely a binary tree.  That is, every parent node has at most two children. \n",
    "\n",
    "<img src='bst.png' width=400>\n",
    "\n",
    "### Searching, Inserting, Deleting\n",
    "\n",
    "BST are sorted so every value on the left of a particular node is smaller than it and every value on the right of a particular node is larger than it. Because BSTs have this structure, we can do operations like search, insert, and delete pretty quickly.\n",
    "\n",
    "Foe example, we want to find 7. We would start at the root, 7 is greater than 5, so go right next. Since next element is 8, next move is left. In just few steps, 7 is found. Here, don't need to search every element to figure out. Just have to look at one value in each level of the tree, and a decision can be made with just a comparison to the element. For searching, the efficiency if O(log(n)).\n",
    "\n",
    "Inserting a binary tree is pretty much the same process. It starts from the top, by comparing elements to decide which side to add. Finally, will find a sopt on the tree. Deleting is a little complicated as usual tree deleting.\n",
    "\n",
    "### Unbalanced BST\n",
    "\n",
    "<img src='unbalanced_bst.png' width=200>\n",
    "\n",
    "It can be considered as the worst case for BST. In this case, search, insert and delet all actually take near time of worst case - O(n). Need to search all element from the root to the leaf.\n",
    "\n",
    "\n",
    "### Practice\n",
    "\n",
    "Now try implementing a BST on your own. Use the same Node calss as before. This time, implement serach(), insert(). Should rewrite search() so it takes advantage of BST properties."
   ]
  },
  {
   "cell_type": "code",
   "execution_count": 5,
   "metadata": {},
   "outputs": [],
   "source": [
    "class BST(object):\n",
    "    def __init__(self, root):\n",
    "        self.root = Node(root)\n",
    "\n",
    "    def insert(self, new_val):\n",
    "        self.insert_helper(self.root, new_val)\n",
    "\n",
    "    def insert_helper(self, current, new_val):\n",
    "        if current.value < new_val:\n",
    "            if current.right:\n",
    "                self.insert_helper(current.right, new_val)\n",
    "            else:\n",
    "                current.right = Node(new_val)\n",
    "        else:\n",
    "            if current.left:\n",
    "                self.insert_helper(current.left, new_val)\n",
    "            else:\n",
    "                current.left = Node(new_val)\n",
    "\n",
    "    def search(self, find_val):\n",
    "        return self.search_helper(self.root, find_val)\n",
    "\n",
    "    def search_helper(self, current, find_val):\n",
    "        if current:\n",
    "            if current.value == find_val:\n",
    "                return True\n",
    "            elif current.value < find_val:\n",
    "                return self.search_helper(current.right, find_val)\n",
    "            else:\n",
    "                return self.search_helper(current.left, find_val)\n",
    "        return False"
   ]
  },
  {
   "cell_type": "code",
   "execution_count": 6,
   "metadata": {},
   "outputs": [
    {
     "name": "stdout",
     "output_type": "stream",
     "text": [
      "True\n",
      "False\n"
     ]
    }
   ],
   "source": [
    "# Set up tree\n",
    "tree = BST(4)\n",
    "\n",
    "# Insert elements\n",
    "tree.insert(2)\n",
    "tree.insert(1)\n",
    "tree.insert(3)\n",
    "tree.insert(5)\n",
    "\n",
    "# Check search\n",
    "# Should be True\n",
    "print(tree.search(4))\n",
    "# Should be False\n",
    "print(tree.search(6))"
   ]
  },
  {
   "cell_type": "markdown",
   "metadata": {},
   "source": [
    "## Heaps\n",
    "\n",
    "Heaps is another kind of tree. Elements are ranged by increasing or decreasing order. The root element is either the maximum or the minimum value of the tree. There are two kinds of heaps, max-heaps and min-heaps.\n",
    "\n",
    "<img src='heaps.png' width=600>\n",
    "\n",
    "Parents can have any number of children. Here just forcus on max bianry heaps. The maximum number cannot benifit the searching, O(n). \n"
   ]
  },
  {
   "cell_type": "markdown",
   "metadata": {},
   "source": [
    "## Self-Balancing Trees\n",
    "\n",
    "<img src='self-balancing-trees.png' width=300>\n",
    "\n",
    "### Red-Black Tree\n",
    "\n",
    "A red–black tree is a kind of self-balancing binary search tree. Each node stores an extra bit representing color, used to ensure that the tree remains approximately balanced during insertions and deletions.\n",
    "\n",
    "A red–black tree is a special type of binary tree, used in computer science to organize pieces of comparable data, such as text fragments or numbers. The leaf nodes of red–black trees do not contain data. These leaves need not be explicit in computer memory—a null child pointer (like NIL in the figure \"An example of a red–black tree\" below) can encode the fact that this child is a leaf. However, in the description of this figure, the leaves are considered to be explicit nodes—a view which may simplify the description and the understanding of some algorithms for operating on red–black trees. Now, in order to save a marginal amount of execution time (see there), these NIL-leaves may be implemented as sentinel nodes (instead of null pointers). On the other hand, in order to save (main) memory, a single sentinel node (instead of many individuals) may perform the role of all leaf nodes: all references (pointers) from internal nodes to leaf nodes then point to this unique sentinel node. \n",
    "Red–black trees, like all binary search trees, allow efficient in-order traversal (that is: in the order Left–Root–Right) of their elements. The search-time results from the traversal from root to leaf, and therefore a balanced tree of n nodes, having the least possible tree height, results in O(log(n)) search time. \n",
    "\n",
    "<img src='red-black.png' width=400>\n",
    "\n",
    "In addition to the requirements imposed on a binary search tree the following must be satisfied by a red–black tree:\n",
    "\n",
    "    1. Each node is either red or black.\n",
    "\n",
    "    2. The root is black. This rule is sometimes omitted. Since the root can always be changed from red to black, but not necessarily vice versa, this rule has little effect on analysis.\n",
    "\n",
    "    3. All leaves are black.\n",
    "\n",
    "    4. If a node is red, then both its children are black.\n",
    "\n",
    "    5. Every path from a given node to any of its descendant NIL nodes goes through the same number of black nodes.\n",
    "    "
   ]
  },
  {
   "cell_type": "code",
   "execution_count": null,
   "metadata": {},
   "outputs": [],
   "source": []
  }
 ],
 "metadata": {
  "kernelspec": {
   "display_name": "Python 3",
   "language": "python",
   "name": "python3"
  },
  "language_info": {
   "codemirror_mode": {
    "name": "ipython",
    "version": 3
   },
   "file_extension": ".py",
   "mimetype": "text/x-python",
   "name": "python",
   "nbconvert_exporter": "python",
   "pygments_lexer": "ipython3",
   "version": "3.7.4"
  }
 },
 "nbformat": 4,
 "nbformat_minor": 2
}
