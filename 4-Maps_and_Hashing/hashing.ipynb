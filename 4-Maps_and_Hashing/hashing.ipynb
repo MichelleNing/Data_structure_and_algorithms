{
 "cells": [
  {
   "cell_type": "markdown",
   "metadata": {},
   "source": [
    "# Hashing\n",
    "\n",
    "## Introduction to Hashing\n",
    "\n",
    "Using a data structure that employs a hash function, allows you to do look-ups in constant time.\n",
    "\n",
    "## Hash Function\n",
    "\n",
    "The purpose of a hash function is to transform some value into one that can be stored and retrieved easily. You give it some value, it converts the value based on some formula and spits out a coded version of that value that's often the index in an array.\n",
    "\n",
    "## Collision \n",
    "\n",
    "There are time when a hash function will spit out the same hash value for two different inputs. This situation is termed a collision.\n",
    "\n",
    "There are two main ways to fix a collision.\n",
    "\n",
    "1 - change the value in your hash function, or to change the hash function completely. \n",
    "\n",
    "2- keep the hash functio and change the structure of your array.\n",
    "\n"
   ]
  },
  {
   "cell_type": "code",
   "execution_count": null,
   "metadata": {},
   "outputs": [],
   "source": []
  }
 ],
 "metadata": {
  "kernelspec": {
   "display_name": "Python 3",
   "language": "python",
   "name": "python3"
  },
  "language_info": {
   "codemirror_mode": {
    "name": "ipython",
    "version": 3
   },
   "file_extension": ".py",
   "mimetype": "text/x-python",
   "name": "python",
   "nbconvert_exporter": "python",
   "pygments_lexer": "ipython3",
   "version": "3.7.4"
  }
 },
 "nbformat": 4,
 "nbformat_minor": 2
}
