{
 "cells": [
  {
   "cell_type": "markdown",
   "metadata": {},
   "source": [
    "# Case Study in Algorithm\n",
    "\n",
    "## Shortest Path Problem\n",
    "\n",
    "Find the shortest path in a graph.\n",
    "\n",
    "For weighted edges: the shortest path is for the sum of edges as small as possible.\n",
    "\n",
    "For unweighted edges: the shortest path is actually just a BFS. \n",
    "\n",
    "## Dijkstra's Algorithm\n",
    "\n",
    "One solution to the shortest path problem for weighted undirected graph is called Dijkstra's algorithm. It is also called Dijkstra's Shortest Path First algorithm, SPF algorithm.\n",
    "\n",
    "It used to find the shortest path between two nodes in a graph, whch may represent, for example, road networks.\n",
    "\n",
    "Give all vertexes distance value. Distance is the sum of edge weights on the path between our starting point and whatever vertex on. At end of algrithm, the distance will be the distance of the shortest path. \n",
    "\n",
    "<img src='di1.png' width=500>\n",
    "\n",
    "The distance value will start with the value infinity. The node we started with distance value 0. \n",
    "\n",
    "From our starting node, we have several options. We will follow each edge and update the node on the other side with distance value which is just the weight of the edge. \n",
    "<img src='di2.png' width=500>\n",
    "\n",
    "Now, we face the choice which node should be visited. We always pick up the nodes with smallest distance value, which means we run the extract min on the queue. Because we always pick up the nodes with lowest distance, it's called Greedy algorithm. Pick up whatever option looks like the best at this moment. We repeat the process, visit all adjacent nodes that still on the queue, and update their distance value if we can't decrease it at all. \n",
    "<img src='di3.png' width=500>\n",
    "\n",
    "Extract the minimum from the queue, and explore adjacency elements until the node we are looking for has been extract from the queue or the path we are looking for does not exist.\n",
    "\n"
   ]
  },
  {
   "cell_type": "markdown",
   "metadata": {},
   "source": [
    "## Knapsack Problem\n",
    "\n",
    "<img src='kp1.png' width=500>\n",
    "\n",
    "Here, ew have a knapsak with limited weight capacity. And more items think may can be fit in. Each item has a weight and a value. The question here is: how can I optimize the total value of items in the knapsak with given weight limitation. \n",
    "\n",
    "Or consider as: given a set of items, each with a weight and a value, determine the number of each item to include in a collection so that the total weight is less than or equal to a given limit and the total value is as large as possible. \n",
    "\n",
    "### 0-1 Knapsack Problem\n",
    "We only have one of each object, the object must be either take or leave the whole object. \n",
    "\n",
    "** Brute Force Sulotion**:\n",
    "\n",
    "Try every combination obects, and pick up the best one. The efficiency is O($2^n$) n= number of objects. Here, exponential time. \n",
    "\n",
    "**A Faster Algorithm**\n",
    "\n",
    "Try to pick up maximum value for as samller weight as possible. Then kept adding them together then we have maximum weight. \n",
    "\n",
    "<img src='kp2.png' width=500>\n",
    "\n",
    "We try to fit the knapsack with weight limitation 6. We take the object with weight 2, we can update the value of index 2 to the value of the object. Then we update everything after this with the same value. \n",
    "\n",
    "Then we look at the next object, we cannot change anything until index 5. The value of the second object is bigger than the max. So we replace the max value for index 5 and 6. \n",
    "\n",
    "<img src='kp3.png' width=500>\n",
    "\n",
    "For the last object, the thing we can change is index 4. The value of the third object is less than 6. So we leave it alone. We look at the index 5 and index 1. Since the old value 9 is larger, 0+5 < 9, we leave it as this. For index 6, add object 3 and index 2, end with bigger value 6+5>9, so we replace it. And we solve the problem.\n",
    "\n",
    "The run time is O(nW), W = weight limit, n = number of elements. This is Pseudo-Plynomial Time, which is much faster!\n"
   ]
  },
  {
   "cell_type": "markdown",
   "metadata": {},
   "source": [
    "### Dynamic Programming\n",
    "\n",
    "**Problem**: Max value for weight limit\n",
    "**Subproblem**: Max value for some smaller weight \n",
    "\n",
    "**Base Case**: Samllest computation (compute values for one object)\n",
    "\n",
    "Start with one object, with only one thing to consider: finding the maximum possible value for any weight. Lookup table is used to solve the problem.\n",
    "<img src='lookup.png' width=400>\n",
    "\n",
    "Another solutoin is using equation. It combine value from lookup table. Sometimes with each other, sometime with new introduced value.\n",
    "<img src='equation.png' width=500>\n",
    "\n",
    "We use the value that already instored in the table as we added new objects, technically called Memoization. So we automatedly  did need to recompute them every time. \n",
    "<img src='dynamicPro.png' width=600>"
   ]
  }
 ],
 "metadata": {
  "kernelspec": {
   "display_name": "Python 3",
   "language": "python",
   "name": "python3"
  },
  "language_info": {
   "codemirror_mode": {
    "name": "ipython",
    "version": 3
   },
   "file_extension": ".py",
   "mimetype": "text/x-python",
   "name": "python",
   "nbconvert_exporter": "python",
   "pygments_lexer": "ipython3",
   "version": "3.7.4"
  }
 },
 "nbformat": 4,
 "nbformat_minor": 2
}
