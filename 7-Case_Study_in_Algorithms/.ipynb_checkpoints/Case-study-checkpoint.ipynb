{
 "cells": [
  {
   "cell_type": "markdown",
   "metadata": {},
   "source": [
    "# Case Study in Algorithm\n",
    "\n",
    "## Shortest Path Problem\n",
    "\n",
    "Find the shortest path in a graph.\n",
    "\n",
    "For weighted edges: the shortest path is for the sum of edges as small as possible.\n",
    "\n",
    "For unweighted edges: the shortest path is actually just a BFS. \n",
    "\n",
    "## Dijkstra's Algorithm\n",
    "\n",
    "One solution to the shortest path problem for weighted undirected graph is called Dijkstra's algorithm. It is also called Dijkstra's Shortest Path First algorithm, SPF algorithm.\n",
    "\n",
    "It used to find the shortest path between two nodes in a graph, whch may represent, for example, road networks.\n",
    "\n"
   ]
  }
 ],
 "metadata": {
  "kernelspec": {
   "display_name": "Python 3",
   "language": "python",
   "name": "python3"
  },
  "language_info": {
   "codemirror_mode": {
    "name": "ipython",
    "version": 3
   },
   "file_extension": ".py",
   "mimetype": "text/x-python",
   "name": "python",
   "nbconvert_exporter": "python",
   "pygments_lexer": "ipython3",
   "version": "3.7.4"
  }
 },
 "nbformat": 4,
 "nbformat_minor": 2
}
